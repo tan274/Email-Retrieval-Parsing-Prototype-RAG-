{
 "cells": [
  {
   "cell_type": "code",
   "execution_count": 2,
   "id": "cd5e2c3c",
   "metadata": {},
   "outputs": [],
   "source": [
    "import pandas as pd\n",
    "import faiss as fa\n",
    "from sentence_transformers import SentenceTransformer \n",
    "import numpy as np"
   ]
  },
  {
   "cell_type": "code",
   "execution_count": 37,
   "id": "e6e2142e",
   "metadata": {},
   "outputs": [],
   "source": [
    "from langchain_openai import ChatOpenAI\n",
    "from openai import OpenAI"
   ]
  },
  {
   "cell_type": "code",
   "execution_count": 4,
   "id": "d2b5b193",
   "metadata": {},
   "outputs": [
    {
     "data": {
      "text/plain": [
       "True"
      ]
     },
     "execution_count": 4,
     "metadata": {},
     "output_type": "execute_result"
    }
   ],
   "source": [
    "from dotenv import load_dotenv\n",
    "import os\n",
    "load_dotenv()"
   ]
  },
  {
   "cell_type": "code",
   "execution_count": 5,
   "id": "0372e8ed",
   "metadata": {},
   "outputs": [],
   "source": [
    "chat = ChatOpenAI(api_key= os.environ.get(\"OPENAI_API_KEY\"), model = \"gpt-4o\")"
   ]
  },
  {
   "cell_type": "markdown",
   "id": "96b9057f",
   "metadata": {},
   "source": [
    "PAYPAL EMAIL EXAMPLES (PURCHASE + REFUND)"
   ]
  },
  {
   "cell_type": "code",
   "execution_count": 6,
   "id": "784dede7",
   "metadata": {},
   "outputs": [],
   "source": [
    "paypal_email_body1 = \"\"\"\n",
    "You sent a payment of $42.15 USD to Spotify USA Inc.\n",
    "\n",
    "Transaction ID: 7TR837392H8491234\n",
    "Transaction date: July 15, 2025\n",
    "Payment method: Visa ending in 1234\n",
    "\"\"\"\n",
    "\n",
    "paypal_email_meta1 = {\n",
    "    \"message_id\": \"m1\",\n",
    "    \"subject\": \"Receipt for Your Payment to Spotify\",\n",
    "    \"received_ts\": \"2025-07-15 10:22:00-0700\"\n",
    "}\n",
    "paypal_email_body2 = \"\"\"\n",
    "We’ve issued a full refund of $42.15 USD to your PayPal balance for the following transaction:\n",
    "Merchant: Spotify USA Inc.\n",
    "\n",
    "Original Transaction ID: 7TR837392H8491234\n",
    "Refund ID: 1RB837392H8495678\n",
    "Refund date: July 22, 2025\n",
    "\"\"\"\n",
    "\n",
    "paypal_email_meta2 = {\n",
    "    \"message_id\": \"paypal_refund1\",   # unique Gmail message ID\n",
    "    \"subject\": \"Your refund has been issued\",  # from the email header\n",
    "    \"received_ts\": \"2025-07-22 09:15:00-0700\"  # when Gmail received the email\n",
    "}"
   ]
  },
  {
   "cell_type": "code",
   "execution_count": 7,
   "id": "67435d62",
   "metadata": {},
   "outputs": [
    {
     "name": "stdout",
     "output_type": "stream",
     "text": [
      "1998-09-15T00:00:00Z\n"
     ]
    }
   ],
   "source": [
    "import re\n",
    "import pandas as pd\n",
    "\n",
    "def normalize_to_utc(date_str):\n",
    "    \"\"\"\n",
    "    Try to parse a date like 'July 15, 2025' into UTC ISO format.\n",
    "    If parsing fails, return None.\n",
    "    \"\"\"\n",
    "    try:\n",
    "        ts = pd.to_datetime(date_str, utc=True, errors=\"coerce\")\n",
    "        if pd.isna(ts):\n",
    "            return None\n",
    "        return ts.strftime(\"%Y-%m-%dT%H:%M:%SZ\")\n",
    "    except Exception:\n",
    "        return None\n",
    "\n",
    "\n",
    "result = normalize_to_utc('September 15, 1998')\n",
    "print(result)\n"
   ]
  },
  {
   "cell_type": "code",
   "execution_count": 8,
   "id": "6ae7fbb2",
   "metadata": {},
   "outputs": [
    {
     "name": "stdout",
     "output_type": "stream",
     "text": [
      "{'id': 'paypal_7TR837392H8491234', 'provider': 'paypal', 'type': 'purchase', 'amount': 42.15, 'currency': 'USD', 'counterparty': 'Spotify USA Inc.', 'category': None, 'status': 'completed', 'txn_time_utc': '2025-07-15T00:00:00Z', 'order_id': '7TR837392H8491234', 'last4': '1234', 'memo': '', 'email_message_id': 'm1', 'subject': 'Receipt for Your Payment to Spotify', 'received_ts': '2025-07-15T17:22:00Z', 'raw_text': 'You sent a payment of $42.15 USD to Spotify USA Inc.\\n\\nTransaction ID: 7TR837392H8491234\\nTransaction date: July 15, 2025\\nPayment method: Visa ending in 1234'}\n",
      "{'id': 'paypal_1RB837392H8495678', 'provider': 'paypal', 'type': 'refund', 'amount': 42.15, 'currency': 'USD', 'counterparty': 'Spotify USA Inc.', 'category': None, 'status': 'completed', 'txn_time_utc': '2025-07-22T00:00:00Z', 'order_id': '1RB837392H8495678', 'last4': None, 'memo': '', 'email_message_id': 'paypal_refund1', 'subject': 'Your refund has been issued', 'received_ts': '2025-07-22T16:15:00Z', 'raw_text': 'We’ve issued a full refund of $42.15 USD to your PayPal balance for the following transaction:\\nMerchant: Spotify USA Inc.\\n\\nOriginal Transaction ID: 7TR837392H8491234\\nRefund ID: 1RB837392H8495678\\nRefund date: July 22, 2025'}\n"
     ]
    }
   ],
   "source": [
    "def parse_paypal(email_body: str, email_meta: dict) -> dict:\n",
    "    \"\"\"\n",
    "    Parse a PayPal purchase or refund email into your transaction schema.\n",
    "    email_meta should include keys: message_id, subject, received_ts\n",
    "    \"\"\"\n",
    "    txn = {\n",
    "        \"id\": None,\n",
    "        \"provider\": \"paypal\",\n",
    "        \"type\": None,\n",
    "        \"amount\": None,\n",
    "        \"currency\": None,\n",
    "        \"counterparty\": None,\n",
    "        \"category\": None,\n",
    "        \"status\": None,\n",
    "        \"txn_time_utc\": None,\n",
    "        \"order_id\": None,\n",
    "        \"last4\": None,\n",
    "        \"memo\": \"\",\n",
    "        \"email_message_id\": email_meta.get(\"message_id\"),\n",
    "        \"subject\": email_meta.get(\"subject\"),\n",
    "        \"received_ts\": normalize_to_utc(email_meta.get(\"received_ts\")),\n",
    "        \"raw_text\": email_body.strip()[:5000]  # trim long bodies\n",
    "    }\n",
    "\n",
    "    # --- Type ---\n",
    "    if \"you sent a payment\" in email_body.lower():\n",
    "        txn[\"type\"] = \"purchase\"\n",
    "    elif \"refund\" in email_body.lower():\n",
    "        txn[\"type\"] = \"refund\"\n",
    "    else:\n",
    "        txn[\"type\"] = \"unknown\"\n",
    "\n",
    "    # --- Amount & Currency ---\n",
    "    m_amt = re.search(r\"\\$([0-9]+\\.[0-9]{2})\\s*([A-Z]{3})?\", email_body)\n",
    "    if m_amt:\n",
    "        txn[\"amount\"] = float(m_amt.group(1))\n",
    "        txn[\"currency\"] = m_amt.group(2) if m_amt.group(2) else \"USD\"\n",
    "\n",
    "    # --- Counterparty ---\n",
    "    if txn[\"type\"] == \"purchase\":\n",
    "        m_to = re.search(r\"to ([A-Za-z0-9 .,&-]+)\", email_body)\n",
    "    elif txn[\"type\"] == \"refund\":\n",
    "        m_to = re.search(r\"Merchant:\\s*(.+)\", email_body)\n",
    "    if m_to:\n",
    "        txn[\"counterparty\"] = m_to.group(1).strip()\n",
    "    else:\n",
    "        txn[\"counterparty\"] = \"unknown\"\n",
    "\n",
    "    # --- Transaction date ---\n",
    "    if txn[\"type\"] == \"purchase\":\n",
    "        m_date = re.search(r\"Transaction date:\\s*(.*)\", email_body)\n",
    "    elif txn[\"type\"] == \"refund\":\n",
    "        m_date = re.search(r\"Refund date:\\s*(.*)\", email_body)\n",
    "    if m_date:\n",
    "        txn[\"txn_time_utc\"] = normalize_to_utc(m_date.group(1))\n",
    "\n",
    "\n",
    "    # --- Order ID ---  \n",
    "    if txn[\"type\"] == \"purchase\":\n",
    "        m_tid = re.search(r\"Transaction ID:\\s*([A-Z0-9]+)\", email_body)\n",
    "    elif txn[\"type\"] == \"refund\":\n",
    "        m_tid = re.search(r\"Refund ID:\\s*(.+)\", email_body)\n",
    "    if m_tid:\n",
    "        txn[\"order_id\"] = m_tid.group(1)\n",
    "\n",
    "    # --- Last 4 digits ---\n",
    "    m_last4 = re.search(r\"ending in (\\d{4})\", email_body)\n",
    "    if m_last4:\n",
    "        txn[\"last4\"] = m_last4.group(1)\n",
    "\n",
    "    # --- Status ---\n",
    "    txn[\"status\"] = \"completed\"\n",
    "\n",
    "    # --- Unique ID ---\n",
    "    if txn[\"order_id\"]:\n",
    "        txn[\"id\"] = \"paypal_\" + txn[\"order_id\"]\n",
    "    else:\n",
    "        txn[\"id\"] = \"paypal_\" + str(txn[\"email_message_id\"])\n",
    "\n",
    "    return txn\n",
    "\n",
    "paypalresultemail1 = parse_paypal(paypal_email_body1, paypal_email_meta1)\n",
    "paypalresultemail2 = parse_paypal(paypal_email_body2, paypal_email_meta2)\n",
    "print(paypalresultemail1)\n",
    "print(paypalresultemail2)"
   ]
  },
  {
   "cell_type": "markdown",
   "id": "dcec7c7d",
   "metadata": {},
   "source": [
    "VENMO EMAIL EXAMPLES (TRANSFER IN + OUT)"
   ]
  },
  {
   "cell_type": "code",
   "execution_count": 9,
   "id": "822a129d",
   "metadata": {},
   "outputs": [],
   "source": [
    "venmo_email_body1= \"\"\" \n",
    "You paid John Doe $25.00 on July 20, 2025\n",
    "Note: Sushi dinner 🍣\n",
    "\"\"\"\n",
    "\n",
    "venmo_email_meta1 = {\n",
    "    \"message_id\": \"venmo1\",\n",
    "    \"subject\": \"You paid John Doe\",\n",
    "    \"received_ts\": \"2025-07-20 12:00:00\"   # fake received time\n",
    "}\n",
    "\n",
    "venmo_email_body2 = \"\"\"\n",
    "Jane Smith paid you $50.00 on July 19, 2025\n",
    "Note: Rent for July\n",
    "\"\"\"\n",
    "\n",
    "venmo_email_meta2 = {\n",
    "    \"message_id\": \"venmo2\",\n",
    "    \"subject\": \"Jane Smith paid you $50.00\",\n",
    "    \"received_ts\": \"2025-07-19 14:30:00\"\n",
    "}"
   ]
  },
  {
   "cell_type": "code",
   "execution_count": 10,
   "id": "9f9c16f9",
   "metadata": {},
   "outputs": [
    {
     "name": "stdout",
     "output_type": "stream",
     "text": [
      "{'id': 'venmo_venmo1', 'provider': 'venmo', 'type': 'transfer_out', 'amount': 25.0, 'currency': 'USD', 'counterparty': 'John Doe', 'category': None, 'status': 'completed', 'txn_time_utc': '2025-07-20T00:00:00Z', 'order_id': None, 'last4': None, 'memo': 'Sushi dinner 🍣', 'email_message_id': 'venmo1', 'subject': 'You paid John Doe', 'received_ts': '2025-07-20T12:00:00Z', 'raw_text': 'You paid John Doe $25.00 on July 20, 2025\\nNote: Sushi dinner 🍣'}\n",
      "{'id': 'venmo_venmo2', 'provider': 'venmo', 'type': 'transfer_in', 'amount': 50.0, 'currency': 'USD', 'counterparty': 'Jane Smith', 'category': None, 'status': 'completed', 'txn_time_utc': '2025-07-19T00:00:00Z', 'order_id': None, 'last4': None, 'memo': 'Rent for July', 'email_message_id': 'venmo2', 'subject': 'Jane Smith paid you $50.00', 'received_ts': '2025-07-19T14:30:00Z', 'raw_text': 'Jane Smith paid you $50.00 on July 19, 2025\\nNote: Rent for July'}\n"
     ]
    }
   ],
   "source": [
    "def parse_venmo(email_body, email_meta):\n",
    "    txn = {\n",
    "       \"id\": None,\n",
    "        \"provider\": \"venmo\",\n",
    "        \"type\": None,\n",
    "        \"amount\": None,\n",
    "        \"currency\": None,\n",
    "        \"counterparty\": None,\n",
    "        \"category\": None,\n",
    "        \"status\": None,\n",
    "        \"txn_time_utc\": None,\n",
    "        \"order_id\": None,\n",
    "        \"last4\": None,\n",
    "        \"memo\": \"\",\n",
    "        \"email_message_id\": email_meta.get(\"message_id\"),\n",
    "        \"subject\": email_meta.get(\"subject\"),\n",
    "        \"received_ts\": normalize_to_utc(email_meta.get(\"received_ts\")),\n",
    "        \"raw_text\": email_body.strip()[:5000]  # trim long bodies\n",
    "    }\n",
    "     # --- Type ---\n",
    "    if \"you paid\" in email_body.lower():\n",
    "        txn[\"type\"] = \"transfer_out\"\n",
    "    elif \"paid you\" in email_body.lower():\n",
    "        txn[\"type\"] = \"transfer_in\"\n",
    "    else:\n",
    "        txn[\"type\"] = \"unknown\"\n",
    "\n",
    "    # --- Amount & Currency ---\n",
    "    m_amt = re.search(r\"\\$([0-9]+\\.[0-9]{2})\", email_body)\n",
    "    if m_amt:\n",
    "        txn[\"amount\"] = float(m_amt.group(1))\n",
    "        txn[\"currency\"] = \"USD\"\n",
    "\n",
    "       # --- Counterparty ---\n",
    "    if txn[\"type\"] == \"transfer_out\":\n",
    "        m_to = re.search(r\"You paid (.+?) \\$\", email_body)\n",
    "        if m_to:\n",
    "            txn[\"counterparty\"] = m_to.group(1).strip()\n",
    "    elif txn[\"type\"] == \"transfer_in\":\n",
    "        m_from = re.search(r\"(.+?) paid you\", email_body)\n",
    "        if m_from:\n",
    "            txn[\"counterparty\"] = m_from.group(1).strip()\n",
    "    else:\n",
    "        txn[\"counterparty\"] = \"unknown\"\n",
    "    \n",
    "    # --- Transaction date ---\n",
    "    m_date = re.search(r\"on (.+? \\d{1,2}, \\d{4})\", email_body)\n",
    "    if m_date:\n",
    "        txn[\"txn_time_utc\"] = normalize_to_utc(m_date.group(1))\n",
    "         \n",
    "    \n",
    "    #Memo\n",
    "    m_memo = re.search(r\"Note:\\s*(.+)\", email_body)\n",
    "    if m_memo:\n",
    "        txn[\"memo\"] = m_memo.group(1).strip()\n",
    "\n",
    "    # Step 7: Fill defaults\n",
    "    txn[\"status\"] = \"completed\"\n",
    "    txn[\"category\"] = None\n",
    "    txn[\"order_id\"] = None\n",
    "    txn[\"last4\"] = None\n",
    "\n",
    "    # Step 8: Generate unique id\n",
    "    txn[\"id\"] = \"venmo_\" + txn[\"email_message_id\"]\n",
    "\n",
    "    return txn\n",
    "venmoresultemail1  = parse_venmo(venmo_email_body1,venmo_email_meta1)\n",
    "venmoresultemail2 = parse_venmo(venmo_email_body2, venmo_email_meta2)\n",
    "print(venmoresultemail1)\n",
    "print(venmoresultemail2)\n"
   ]
  },
  {
   "cell_type": "markdown",
   "id": "4a1227b7",
   "metadata": {},
   "source": [
    "STORE IN DATAFRAME FOR EASIER FUTURE FILTERING"
   ]
  },
  {
   "cell_type": "code",
   "execution_count": 11,
   "id": "a44a649a",
   "metadata": {},
   "outputs": [
    {
     "data": {
      "text/html": [
       "<div>\n",
       "<style scoped>\n",
       "    .dataframe tbody tr th:only-of-type {\n",
       "        vertical-align: middle;\n",
       "    }\n",
       "\n",
       "    .dataframe tbody tr th {\n",
       "        vertical-align: top;\n",
       "    }\n",
       "\n",
       "    .dataframe thead th {\n",
       "        text-align: right;\n",
       "    }\n",
       "</style>\n",
       "<table border=\"1\" class=\"dataframe\">\n",
       "  <thead>\n",
       "    <tr style=\"text-align: right;\">\n",
       "      <th></th>\n",
       "      <th>id</th>\n",
       "      <th>provider</th>\n",
       "      <th>type</th>\n",
       "      <th>amount</th>\n",
       "      <th>currency</th>\n",
       "      <th>counterparty</th>\n",
       "      <th>category</th>\n",
       "      <th>status</th>\n",
       "      <th>txn_time_utc</th>\n",
       "      <th>order_id</th>\n",
       "      <th>last4</th>\n",
       "      <th>memo</th>\n",
       "      <th>email_message_id</th>\n",
       "      <th>subject</th>\n",
       "      <th>received_ts</th>\n",
       "      <th>raw_text</th>\n",
       "    </tr>\n",
       "  </thead>\n",
       "  <tbody>\n",
       "    <tr>\n",
       "      <th>0</th>\n",
       "      <td>paypal_7TR837392H8491234</td>\n",
       "      <td>paypal</td>\n",
       "      <td>purchase</td>\n",
       "      <td>42.15</td>\n",
       "      <td>USD</td>\n",
       "      <td>Spotify USA Inc.</td>\n",
       "      <td>None</td>\n",
       "      <td>completed</td>\n",
       "      <td>2025-07-15T00:00:00Z</td>\n",
       "      <td>7TR837392H8491234</td>\n",
       "      <td>1234</td>\n",
       "      <td></td>\n",
       "      <td>m1</td>\n",
       "      <td>Receipt for Your Payment to Spotify</td>\n",
       "      <td>2025-07-15T17:22:00Z</td>\n",
       "      <td>You sent a payment of $42.15 USD to Spotify US...</td>\n",
       "    </tr>\n",
       "    <tr>\n",
       "      <th>1</th>\n",
       "      <td>paypal_1RB837392H8495678</td>\n",
       "      <td>paypal</td>\n",
       "      <td>refund</td>\n",
       "      <td>42.15</td>\n",
       "      <td>USD</td>\n",
       "      <td>Spotify USA Inc.</td>\n",
       "      <td>None</td>\n",
       "      <td>completed</td>\n",
       "      <td>2025-07-22T00:00:00Z</td>\n",
       "      <td>1RB837392H8495678</td>\n",
       "      <td>None</td>\n",
       "      <td></td>\n",
       "      <td>paypal_refund1</td>\n",
       "      <td>Your refund has been issued</td>\n",
       "      <td>2025-07-22T16:15:00Z</td>\n",
       "      <td>We’ve issued a full refund of $42.15 USD to yo...</td>\n",
       "    </tr>\n",
       "    <tr>\n",
       "      <th>2</th>\n",
       "      <td>venmo_venmo1</td>\n",
       "      <td>venmo</td>\n",
       "      <td>transfer_out</td>\n",
       "      <td>25.00</td>\n",
       "      <td>USD</td>\n",
       "      <td>John Doe</td>\n",
       "      <td>None</td>\n",
       "      <td>completed</td>\n",
       "      <td>2025-07-20T00:00:00Z</td>\n",
       "      <td>None</td>\n",
       "      <td>None</td>\n",
       "      <td>Sushi dinner 🍣</td>\n",
       "      <td>venmo1</td>\n",
       "      <td>You paid John Doe</td>\n",
       "      <td>2025-07-20T12:00:00Z</td>\n",
       "      <td>You paid John Doe $25.00 on July 20, 2025\\nNot...</td>\n",
       "    </tr>\n",
       "    <tr>\n",
       "      <th>3</th>\n",
       "      <td>venmo_venmo2</td>\n",
       "      <td>venmo</td>\n",
       "      <td>transfer_in</td>\n",
       "      <td>50.00</td>\n",
       "      <td>USD</td>\n",
       "      <td>Jane Smith</td>\n",
       "      <td>None</td>\n",
       "      <td>completed</td>\n",
       "      <td>2025-07-19T00:00:00Z</td>\n",
       "      <td>None</td>\n",
       "      <td>None</td>\n",
       "      <td>Rent for July</td>\n",
       "      <td>venmo2</td>\n",
       "      <td>Jane Smith paid you $50.00</td>\n",
       "      <td>2025-07-19T14:30:00Z</td>\n",
       "      <td>Jane Smith paid you $50.00 on July 19, 2025\\nN...</td>\n",
       "    </tr>\n",
       "  </tbody>\n",
       "</table>\n",
       "</div>"
      ],
      "text/plain": [
       "                         id provider          type  amount currency  \\\n",
       "0  paypal_7TR837392H8491234   paypal      purchase   42.15      USD   \n",
       "1  paypal_1RB837392H8495678   paypal        refund   42.15      USD   \n",
       "2              venmo_venmo1    venmo  transfer_out   25.00      USD   \n",
       "3              venmo_venmo2    venmo   transfer_in   50.00      USD   \n",
       "\n",
       "       counterparty category     status          txn_time_utc  \\\n",
       "0  Spotify USA Inc.     None  completed  2025-07-15T00:00:00Z   \n",
       "1  Spotify USA Inc.     None  completed  2025-07-22T00:00:00Z   \n",
       "2          John Doe     None  completed  2025-07-20T00:00:00Z   \n",
       "3        Jane Smith     None  completed  2025-07-19T00:00:00Z   \n",
       "\n",
       "            order_id last4            memo email_message_id  \\\n",
       "0  7TR837392H8491234  1234                               m1   \n",
       "1  1RB837392H8495678  None                   paypal_refund1   \n",
       "2               None  None  Sushi dinner 🍣           venmo1   \n",
       "3               None  None   Rent for July           venmo2   \n",
       "\n",
       "                               subject           received_ts  \\\n",
       "0  Receipt for Your Payment to Spotify  2025-07-15T17:22:00Z   \n",
       "1          Your refund has been issued  2025-07-22T16:15:00Z   \n",
       "2                    You paid John Doe  2025-07-20T12:00:00Z   \n",
       "3           Jane Smith paid you $50.00  2025-07-19T14:30:00Z   \n",
       "\n",
       "                                            raw_text  \n",
       "0  You sent a payment of $42.15 USD to Spotify US...  \n",
       "1  We’ve issued a full refund of $42.15 USD to yo...  \n",
       "2  You paid John Doe $25.00 on July 20, 2025\\nNot...  \n",
       "3  Jane Smith paid you $50.00 on July 19, 2025\\nN...  "
      ]
     },
     "metadata": {},
     "output_type": "display_data"
    }
   ],
   "source": [
    "#store in dataframe maybe put in database later\n",
    "df = pd.DataFrame([paypalresultemail1, paypalresultemail2, venmoresultemail1, venmoresultemail2])\n",
    "display(df)"
   ]
  },
  {
   "cell_type": "markdown",
   "id": "3e7394dc",
   "metadata": {},
   "source": [
    "FILTERING AND AGGREGATION TESTING (LIKELY FOR METADATA FILTERING LATER ON)"
   ]
  },
  {
   "cell_type": "code",
   "execution_count": 12,
   "id": "12465b67",
   "metadata": {},
   "outputs": [
    {
     "data": {
      "text/html": [
       "<div>\n",
       "<style scoped>\n",
       "    .dataframe tbody tr th:only-of-type {\n",
       "        vertical-align: middle;\n",
       "    }\n",
       "\n",
       "    .dataframe tbody tr th {\n",
       "        vertical-align: top;\n",
       "    }\n",
       "\n",
       "    .dataframe thead th {\n",
       "        text-align: right;\n",
       "    }\n",
       "</style>\n",
       "<table border=\"1\" class=\"dataframe\">\n",
       "  <thead>\n",
       "    <tr style=\"text-align: right;\">\n",
       "      <th></th>\n",
       "      <th>id</th>\n",
       "      <th>provider</th>\n",
       "      <th>type</th>\n",
       "      <th>amount</th>\n",
       "      <th>currency</th>\n",
       "      <th>counterparty</th>\n",
       "      <th>category</th>\n",
       "      <th>status</th>\n",
       "      <th>txn_time_utc</th>\n",
       "      <th>order_id</th>\n",
       "      <th>last4</th>\n",
       "      <th>memo</th>\n",
       "      <th>email_message_id</th>\n",
       "      <th>subject</th>\n",
       "      <th>received_ts</th>\n",
       "      <th>raw_text</th>\n",
       "    </tr>\n",
       "  </thead>\n",
       "  <tbody>\n",
       "    <tr>\n",
       "      <th>2</th>\n",
       "      <td>venmo_venmo1</td>\n",
       "      <td>venmo</td>\n",
       "      <td>transfer_out</td>\n",
       "      <td>25.0</td>\n",
       "      <td>USD</td>\n",
       "      <td>John Doe</td>\n",
       "      <td>None</td>\n",
       "      <td>completed</td>\n",
       "      <td>2025-07-20T00:00:00Z</td>\n",
       "      <td>None</td>\n",
       "      <td>None</td>\n",
       "      <td>Sushi dinner 🍣</td>\n",
       "      <td>venmo1</td>\n",
       "      <td>You paid John Doe</td>\n",
       "      <td>2025-07-20T12:00:00Z</td>\n",
       "      <td>You paid John Doe $25.00 on July 20, 2025\\nNot...</td>\n",
       "    </tr>\n",
       "    <tr>\n",
       "      <th>3</th>\n",
       "      <td>venmo_venmo2</td>\n",
       "      <td>venmo</td>\n",
       "      <td>transfer_in</td>\n",
       "      <td>50.0</td>\n",
       "      <td>USD</td>\n",
       "      <td>Jane Smith</td>\n",
       "      <td>None</td>\n",
       "      <td>completed</td>\n",
       "      <td>2025-07-19T00:00:00Z</td>\n",
       "      <td>None</td>\n",
       "      <td>None</td>\n",
       "      <td>Rent for July</td>\n",
       "      <td>venmo2</td>\n",
       "      <td>Jane Smith paid you $50.00</td>\n",
       "      <td>2025-07-19T14:30:00Z</td>\n",
       "      <td>Jane Smith paid you $50.00 on July 19, 2025\\nN...</td>\n",
       "    </tr>\n",
       "  </tbody>\n",
       "</table>\n",
       "</div>"
      ],
      "text/plain": [
       "             id provider          type  amount currency counterparty category  \\\n",
       "2  venmo_venmo1    venmo  transfer_out    25.0      USD     John Doe     None   \n",
       "3  venmo_venmo2    venmo   transfer_in    50.0      USD   Jane Smith     None   \n",
       "\n",
       "      status          txn_time_utc order_id last4            memo  \\\n",
       "2  completed  2025-07-20T00:00:00Z     None  None  Sushi dinner 🍣   \n",
       "3  completed  2025-07-19T00:00:00Z     None  None   Rent for July   \n",
       "\n",
       "  email_message_id                     subject           received_ts  \\\n",
       "2           venmo1           You paid John Doe  2025-07-20T12:00:00Z   \n",
       "3           venmo2  Jane Smith paid you $50.00  2025-07-19T14:30:00Z   \n",
       "\n",
       "                                            raw_text  \n",
       "2  You paid John Doe $25.00 on July 20, 2025\\nNot...  \n",
       "3  Jane Smith paid you $50.00 on July 19, 2025\\nN...  "
      ]
     },
     "metadata": {},
     "output_type": "display_data"
    }
   ],
   "source": [
    "venmo = df[df[\"provider\"] == \"venmo\"]\n",
    "display(venmo)"
   ]
  },
  {
   "cell_type": "code",
   "execution_count": 13,
   "id": "0acca42c",
   "metadata": {},
   "outputs": [
    {
     "data": {
      "text/html": [
       "<div>\n",
       "<style scoped>\n",
       "    .dataframe tbody tr th:only-of-type {\n",
       "        vertical-align: middle;\n",
       "    }\n",
       "\n",
       "    .dataframe tbody tr th {\n",
       "        vertical-align: top;\n",
       "    }\n",
       "\n",
       "    .dataframe thead th {\n",
       "        text-align: right;\n",
       "    }\n",
       "</style>\n",
       "<table border=\"1\" class=\"dataframe\">\n",
       "  <thead>\n",
       "    <tr style=\"text-align: right;\">\n",
       "      <th></th>\n",
       "      <th>id</th>\n",
       "      <th>provider</th>\n",
       "      <th>type</th>\n",
       "      <th>amount</th>\n",
       "      <th>currency</th>\n",
       "      <th>counterparty</th>\n",
       "      <th>category</th>\n",
       "      <th>status</th>\n",
       "      <th>txn_time_utc</th>\n",
       "      <th>order_id</th>\n",
       "      <th>last4</th>\n",
       "      <th>memo</th>\n",
       "      <th>email_message_id</th>\n",
       "      <th>subject</th>\n",
       "      <th>received_ts</th>\n",
       "      <th>raw_text</th>\n",
       "    </tr>\n",
       "  </thead>\n",
       "  <tbody>\n",
       "    <tr>\n",
       "      <th>1</th>\n",
       "      <td>paypal_1RB837392H8495678</td>\n",
       "      <td>paypal</td>\n",
       "      <td>refund</td>\n",
       "      <td>42.15</td>\n",
       "      <td>USD</td>\n",
       "      <td>Spotify USA Inc.</td>\n",
       "      <td>None</td>\n",
       "      <td>completed</td>\n",
       "      <td>2025-07-22T00:00:00Z</td>\n",
       "      <td>1RB837392H8495678</td>\n",
       "      <td>None</td>\n",
       "      <td></td>\n",
       "      <td>paypal_refund1</td>\n",
       "      <td>Your refund has been issued</td>\n",
       "      <td>2025-07-22T16:15:00Z</td>\n",
       "      <td>We’ve issued a full refund of $42.15 USD to yo...</td>\n",
       "    </tr>\n",
       "  </tbody>\n",
       "</table>\n",
       "</div>"
      ],
      "text/plain": [
       "                         id provider    type  amount currency  \\\n",
       "1  paypal_1RB837392H8495678   paypal  refund   42.15      USD   \n",
       "\n",
       "       counterparty category     status          txn_time_utc  \\\n",
       "1  Spotify USA Inc.     None  completed  2025-07-22T00:00:00Z   \n",
       "\n",
       "            order_id last4 memo email_message_id                      subject  \\\n",
       "1  1RB837392H8495678  None        paypal_refund1  Your refund has been issued   \n",
       "\n",
       "            received_ts                                           raw_text  \n",
       "1  2025-07-22T16:15:00Z  We’ve issued a full refund of $42.15 USD to yo...  "
      ]
     },
     "metadata": {},
     "output_type": "display_data"
    }
   ],
   "source": [
    "refundpaypal = df[(df[\"provider\"] == \"paypal\") & (df[\"type\"] == \"refund\")]\n",
    "display(refundpaypal)"
   ]
  },
  {
   "cell_type": "code",
   "execution_count": 14,
   "id": "bdfc7dd9",
   "metadata": {},
   "outputs": [
    {
     "data": {
      "text/plain": [
       "np.float64(75.0)"
      ]
     },
     "metadata": {},
     "output_type": "display_data"
    }
   ],
   "source": [
    "sumvenmo = df[df[\"provider\"] == \"venmo\"][\"amount\"].sum()\n",
    "display(sumvenmo)"
   ]
  },
  {
   "cell_type": "code",
   "execution_count": 15,
   "id": "80a2eb13",
   "metadata": {},
   "outputs": [
    {
     "data": {
      "text/plain": [
       "id                                                       venmo_venmo2\n",
       "provider                                                        venmo\n",
       "type                                                      transfer_in\n",
       "amount                                                           50.0\n",
       "currency                                                          USD\n",
       "counterparty                                               Jane Smith\n",
       "category                                                         None\n",
       "status                                                      completed\n",
       "txn_time_utc                                     2025-07-19T00:00:00Z\n",
       "order_id                                                         None\n",
       "last4                                                            None\n",
       "memo                                                    Rent for July\n",
       "email_message_id                                               venmo2\n",
       "subject                                    Jane Smith paid you $50.00\n",
       "received_ts                                      2025-07-19T14:30:00Z\n",
       "raw_text            Jane Smith paid you $50.00 on July 19, 2025\\nN...\n",
       "Name: 3, dtype: object"
      ]
     },
     "metadata": {},
     "output_type": "display_data"
    }
   ],
   "source": [
    "maxamount = df.loc[df[\"amount\"].idxmax()]\n",
    "display(maxamount)"
   ]
  },
  {
   "cell_type": "code",
   "execution_count": 16,
   "id": "da7e7616",
   "metadata": {},
   "outputs": [
    {
     "data": {
      "text/html": [
       "<div>\n",
       "<style scoped>\n",
       "    .dataframe tbody tr th:only-of-type {\n",
       "        vertical-align: middle;\n",
       "    }\n",
       "\n",
       "    .dataframe tbody tr th {\n",
       "        vertical-align: top;\n",
       "    }\n",
       "\n",
       "    .dataframe thead th {\n",
       "        text-align: right;\n",
       "    }\n",
       "</style>\n",
       "<table border=\"1\" class=\"dataframe\">\n",
       "  <thead>\n",
       "    <tr style=\"text-align: right;\">\n",
       "      <th></th>\n",
       "      <th>id</th>\n",
       "      <th>provider</th>\n",
       "      <th>type</th>\n",
       "      <th>amount</th>\n",
       "      <th>currency</th>\n",
       "      <th>counterparty</th>\n",
       "      <th>category</th>\n",
       "      <th>status</th>\n",
       "      <th>txn_time_utc</th>\n",
       "      <th>order_id</th>\n",
       "      <th>last4</th>\n",
       "      <th>memo</th>\n",
       "      <th>email_message_id</th>\n",
       "      <th>subject</th>\n",
       "      <th>received_ts</th>\n",
       "      <th>raw_text</th>\n",
       "    </tr>\n",
       "  </thead>\n",
       "  <tbody>\n",
       "    <tr>\n",
       "      <th>0</th>\n",
       "      <td>paypal_7TR837392H8491234</td>\n",
       "      <td>paypal</td>\n",
       "      <td>purchase</td>\n",
       "      <td>42.15</td>\n",
       "      <td>USD</td>\n",
       "      <td>Spotify USA Inc.</td>\n",
       "      <td>None</td>\n",
       "      <td>completed</td>\n",
       "      <td>2025-07-15T00:00:00Z</td>\n",
       "      <td>7TR837392H8491234</td>\n",
       "      <td>1234</td>\n",
       "      <td></td>\n",
       "      <td>m1</td>\n",
       "      <td>Receipt for Your Payment to Spotify</td>\n",
       "      <td>2025-07-15T17:22:00Z</td>\n",
       "      <td>You sent a payment of $42.15 USD to Spotify US...</td>\n",
       "    </tr>\n",
       "    <tr>\n",
       "      <th>1</th>\n",
       "      <td>paypal_1RB837392H8495678</td>\n",
       "      <td>paypal</td>\n",
       "      <td>refund</td>\n",
       "      <td>42.15</td>\n",
       "      <td>USD</td>\n",
       "      <td>Spotify USA Inc.</td>\n",
       "      <td>None</td>\n",
       "      <td>completed</td>\n",
       "      <td>2025-07-22T00:00:00Z</td>\n",
       "      <td>1RB837392H8495678</td>\n",
       "      <td>None</td>\n",
       "      <td></td>\n",
       "      <td>paypal_refund1</td>\n",
       "      <td>Your refund has been issued</td>\n",
       "      <td>2025-07-22T16:15:00Z</td>\n",
       "      <td>We’ve issued a full refund of $42.15 USD to yo...</td>\n",
       "    </tr>\n",
       "  </tbody>\n",
       "</table>\n",
       "</div>"
      ],
      "text/plain": [
       "                         id provider      type  amount currency  \\\n",
       "0  paypal_7TR837392H8491234   paypal  purchase   42.15      USD   \n",
       "1  paypal_1RB837392H8495678   paypal    refund   42.15      USD   \n",
       "\n",
       "       counterparty category     status          txn_time_utc  \\\n",
       "0  Spotify USA Inc.     None  completed  2025-07-15T00:00:00Z   \n",
       "1  Spotify USA Inc.     None  completed  2025-07-22T00:00:00Z   \n",
       "\n",
       "            order_id last4 memo email_message_id  \\\n",
       "0  7TR837392H8491234  1234                    m1   \n",
       "1  1RB837392H8495678  None        paypal_refund1   \n",
       "\n",
       "                               subject           received_ts  \\\n",
       "0  Receipt for Your Payment to Spotify  2025-07-15T17:22:00Z   \n",
       "1          Your refund has been issued  2025-07-22T16:15:00Z   \n",
       "\n",
       "                                            raw_text  \n",
       "0  You sent a payment of $42.15 USD to Spotify US...  \n",
       "1  We’ve issued a full refund of $42.15 USD to yo...  "
      ]
     },
     "metadata": {},
     "output_type": "display_data"
    }
   ],
   "source": [
    "spotify = df[df[\"counterparty\"].str.contains(\"Spotify\")]\n",
    "display(spotify)\n"
   ]
  },
  {
   "cell_type": "code",
   "execution_count": 17,
   "id": "962bb50b",
   "metadata": {},
   "outputs": [
    {
     "data": {
      "text/plain": [
       "np.float64(0.0)"
      ]
     },
     "metadata": {},
     "output_type": "display_data"
    }
   ],
   "source": [
    "net_spotify = spotify.apply(\n",
    "    lambda row: row[\"amount\"] if row[\"type\"] == \"purchase\" else -row[\"amount\"], axis=1\n",
    ").sum()\n",
    "display(net_spotify)"
   ]
  },
  {
   "cell_type": "code",
   "execution_count": 18,
   "id": "22c9ac03",
   "metadata": {},
   "outputs": [
    {
     "data": {
      "text/plain": [
       "provider\n",
       "paypal    84.3\n",
       "venmo     75.0\n",
       "Name: amount, dtype: float64"
      ]
     },
     "metadata": {},
     "output_type": "display_data"
    }
   ],
   "source": [
    "by_provider = df.groupby(\"provider\")[\"amount\"].sum()\n",
    "display(by_provider)"
   ]
  },
  {
   "cell_type": "code",
   "execution_count": 19,
   "id": "52a3dbcc",
   "metadata": {},
   "outputs": [
    {
     "data": {
      "text/plain": [
       "direction\n",
       "in     92.15\n",
       "out    67.15\n",
       "Name: amount, dtype: float64"
      ]
     },
     "metadata": {},
     "output_type": "display_data"
    }
   ],
   "source": [
    "df[\"direction\"] = df[\"type\"].map({\n",
    "    \"purchase\": \"out\",\n",
    "    \"refund\": \"in\",\n",
    "    \"transfer_out\": \"out\",\n",
    "    \"transfer_in\": \"in\"\n",
    "})\n",
    "\n",
    "summary = df.groupby(\"direction\")[\"amount\"].sum()\n",
    "display(summary)"
   ]
  },
  {
   "cell_type": "code",
   "execution_count": 20,
   "id": "98478a73",
   "metadata": {},
   "outputs": [
    {
     "data": {
      "text/plain": [
       "counterparty\n",
       "Spotify USA Inc.    84.3\n",
       "Jane Smith          50.0\n",
       "John Doe            25.0\n",
       "Name: amount, dtype: float64"
      ]
     },
     "metadata": {},
     "output_type": "display_data"
    }
   ],
   "source": [
    "biggest = df.groupby(\"counterparty\")[\"amount\"].sum().sort_values(ascending=False)\n",
    "display(biggest)"
   ]
  },
  {
   "cell_type": "code",
   "execution_count": 21,
   "id": "d04d5f76",
   "metadata": {},
   "outputs": [
    {
     "data": {
      "text/html": [
       "<div>\n",
       "<style scoped>\n",
       "    .dataframe tbody tr th:only-of-type {\n",
       "        vertical-align: middle;\n",
       "    }\n",
       "\n",
       "    .dataframe tbody tr th {\n",
       "        vertical-align: top;\n",
       "    }\n",
       "\n",
       "    .dataframe thead th {\n",
       "        text-align: right;\n",
       "    }\n",
       "</style>\n",
       "<table border=\"1\" class=\"dataframe\">\n",
       "  <thead>\n",
       "    <tr style=\"text-align: right;\">\n",
       "      <th></th>\n",
       "      <th>id</th>\n",
       "      <th>provider</th>\n",
       "      <th>type</th>\n",
       "      <th>amount</th>\n",
       "      <th>currency</th>\n",
       "      <th>counterparty</th>\n",
       "      <th>category</th>\n",
       "      <th>status</th>\n",
       "      <th>txn_time_utc</th>\n",
       "      <th>order_id</th>\n",
       "      <th>last4</th>\n",
       "      <th>memo</th>\n",
       "      <th>email_message_id</th>\n",
       "      <th>subject</th>\n",
       "      <th>received_ts</th>\n",
       "      <th>raw_text</th>\n",
       "      <th>direction</th>\n",
       "    </tr>\n",
       "  </thead>\n",
       "  <tbody>\n",
       "    <tr>\n",
       "      <th>0</th>\n",
       "      <td>paypal_7TR837392H8491234</td>\n",
       "      <td>paypal</td>\n",
       "      <td>purchase</td>\n",
       "      <td>42.15</td>\n",
       "      <td>USD</td>\n",
       "      <td>Spotify USA Inc.</td>\n",
       "      <td>None</td>\n",
       "      <td>completed</td>\n",
       "      <td>2025-07-15T00:00:00Z</td>\n",
       "      <td>7TR837392H8491234</td>\n",
       "      <td>1234</td>\n",
       "      <td></td>\n",
       "      <td>m1</td>\n",
       "      <td>Receipt for Your Payment to Spotify</td>\n",
       "      <td>2025-07-15T17:22:00Z</td>\n",
       "      <td>You sent a payment of $42.15 USD to Spotify US...</td>\n",
       "      <td>out</td>\n",
       "    </tr>\n",
       "    <tr>\n",
       "      <th>1</th>\n",
       "      <td>paypal_1RB837392H8495678</td>\n",
       "      <td>paypal</td>\n",
       "      <td>refund</td>\n",
       "      <td>42.15</td>\n",
       "      <td>USD</td>\n",
       "      <td>Spotify USA Inc.</td>\n",
       "      <td>None</td>\n",
       "      <td>completed</td>\n",
       "      <td>2025-07-22T00:00:00Z</td>\n",
       "      <td>1RB837392H8495678</td>\n",
       "      <td>None</td>\n",
       "      <td></td>\n",
       "      <td>paypal_refund1</td>\n",
       "      <td>Your refund has been issued</td>\n",
       "      <td>2025-07-22T16:15:00Z</td>\n",
       "      <td>We’ve issued a full refund of $42.15 USD to yo...</td>\n",
       "      <td>in</td>\n",
       "    </tr>\n",
       "    <tr>\n",
       "      <th>2</th>\n",
       "      <td>venmo_venmo1</td>\n",
       "      <td>venmo</td>\n",
       "      <td>transfer_out</td>\n",
       "      <td>25.00</td>\n",
       "      <td>USD</td>\n",
       "      <td>John Doe</td>\n",
       "      <td>None</td>\n",
       "      <td>completed</td>\n",
       "      <td>2025-07-20T00:00:00Z</td>\n",
       "      <td>None</td>\n",
       "      <td>None</td>\n",
       "      <td>Sushi dinner 🍣</td>\n",
       "      <td>venmo1</td>\n",
       "      <td>You paid John Doe</td>\n",
       "      <td>2025-07-20T12:00:00Z</td>\n",
       "      <td>You paid John Doe $25.00 on July 20, 2025\\nNot...</td>\n",
       "      <td>out</td>\n",
       "    </tr>\n",
       "    <tr>\n",
       "      <th>3</th>\n",
       "      <td>venmo_venmo2</td>\n",
       "      <td>venmo</td>\n",
       "      <td>transfer_in</td>\n",
       "      <td>50.00</td>\n",
       "      <td>USD</td>\n",
       "      <td>Jane Smith</td>\n",
       "      <td>None</td>\n",
       "      <td>completed</td>\n",
       "      <td>2025-07-19T00:00:00Z</td>\n",
       "      <td>None</td>\n",
       "      <td>None</td>\n",
       "      <td>Rent for July</td>\n",
       "      <td>venmo2</td>\n",
       "      <td>Jane Smith paid you $50.00</td>\n",
       "      <td>2025-07-19T14:30:00Z</td>\n",
       "      <td>Jane Smith paid you $50.00 on July 19, 2025\\nN...</td>\n",
       "      <td>in</td>\n",
       "    </tr>\n",
       "  </tbody>\n",
       "</table>\n",
       "</div>"
      ],
      "text/plain": [
       "                         id provider          type  amount currency  \\\n",
       "0  paypal_7TR837392H8491234   paypal      purchase   42.15      USD   \n",
       "1  paypal_1RB837392H8495678   paypal        refund   42.15      USD   \n",
       "2              venmo_venmo1    venmo  transfer_out   25.00      USD   \n",
       "3              venmo_venmo2    venmo   transfer_in   50.00      USD   \n",
       "\n",
       "       counterparty category     status          txn_time_utc  \\\n",
       "0  Spotify USA Inc.     None  completed  2025-07-15T00:00:00Z   \n",
       "1  Spotify USA Inc.     None  completed  2025-07-22T00:00:00Z   \n",
       "2          John Doe     None  completed  2025-07-20T00:00:00Z   \n",
       "3        Jane Smith     None  completed  2025-07-19T00:00:00Z   \n",
       "\n",
       "            order_id last4            memo email_message_id  \\\n",
       "0  7TR837392H8491234  1234                               m1   \n",
       "1  1RB837392H8495678  None                   paypal_refund1   \n",
       "2               None  None  Sushi dinner 🍣           venmo1   \n",
       "3               None  None   Rent for July           venmo2   \n",
       "\n",
       "                               subject           received_ts  \\\n",
       "0  Receipt for Your Payment to Spotify  2025-07-15T17:22:00Z   \n",
       "1          Your refund has been issued  2025-07-22T16:15:00Z   \n",
       "2                    You paid John Doe  2025-07-20T12:00:00Z   \n",
       "3           Jane Smith paid you $50.00  2025-07-19T14:30:00Z   \n",
       "\n",
       "                                            raw_text direction  \n",
       "0  You sent a payment of $42.15 USD to Spotify US...       out  \n",
       "1  We’ve issued a full refund of $42.15 USD to yo...        in  \n",
       "2  You paid John Doe $25.00 on July 20, 2025\\nNot...       out  \n",
       "3  Jane Smith paid you $50.00 on July 19, 2025\\nN...        in  "
      ]
     },
     "metadata": {},
     "output_type": "display_data"
    }
   ],
   "source": [
    "display(df)"
   ]
  },
  {
   "cell_type": "markdown",
   "id": "6190a60f",
   "metadata": {},
   "source": [
    "CONVERTING ROWS IN DF TO STRING TO EMBED INTO FAISS"
   ]
  },
  {
   "cell_type": "code",
   "execution_count": 30,
   "id": "2eb39a32",
   "metadata": {},
   "outputs": [
    {
     "name": "stdout",
     "output_type": "stream",
     "text": [
      "['paypal purchase of 42.15 USD to Spotify USA Inc. on 2025-07-15T00:00:00Z (Visa Ending in 1234)', 'paypal refund of 42.15 USD from Spotify USA Inc. on 2025-07-22T00:00:00Z', 'venmo payment of 25.00 USD to John Doe on 2025-07-20T00:00:00Z (note: Sushi dinner 🍣)', 'venmo payment of 50.00 USD received from Jane Smith on 2025-07-19T00:00:00Z (note: Rent for July)']\n"
     ]
    }
   ],
   "source": [
    "def row_to_str (row):\n",
    "    rowstr = \"\"\n",
    "    if row['provider']=='paypal':\n",
    "        if row['type'] == 'purchase':\n",
    "            rowstr = f\"{row['provider']} {row['type']} of {row['amount']:.2f} {row['currency']} to {row['counterparty']} on {row['txn_time_utc']} (Visa Ending in {row['last4']})\"\n",
    "        elif row['type'] == 'refund':\n",
    "            rowstr = f\"{row['provider']} {row['type']} of {row['amount']:.2f} {row['currency']} from {row['counterparty']} on {row['txn_time_utc']}\"\n",
    "    elif row['provider']=='venmo':\n",
    "        note = \"\"\n",
    "        if row['memo']:\n",
    "            note = f\"(note: {row['memo']})\"\n",
    "        else:\n",
    "            note = \"\"\n",
    "        if row['type'] == 'transfer_out':\n",
    "            rowstr = f\"{row['provider']} payment of {row['amount']:.2f} {row['currency']} to {row['counterparty']} on {row['txn_time_utc']} {note}\" \n",
    "        elif row['type'] == 'transfer_in':\n",
    "            rowstr = f\"{row['provider']} payment of {row['amount']:.2f} {row['currency']} received from {row['counterparty']} on {row['txn_time_utc']} {note}\" \n",
    "    return rowstr.strip() #removes leading or trailing spaces\n",
    "\n",
    "allrowstr = [row_to_str(row) for idx, row in df.iterrows()]\n",
    "print(allrowstr)\n"
   ]
  },
  {
   "cell_type": "markdown",
   "id": "29a2ec56",
   "metadata": {},
   "source": [
    "EMBEDDING ROW STRINGS INTO FAISS"
   ]
  },
  {
   "cell_type": "code",
   "execution_count": 23,
   "id": "87c26216",
   "metadata": {},
   "outputs": [],
   "source": [
    "model = SentenceTransformer(\"all-MiniLM-L6-v2\")"
   ]
  },
  {
   "cell_type": "code",
   "execution_count": 24,
   "id": "6cd3e47b",
   "metadata": {},
   "outputs": [],
   "source": [
    "embeddings = model.encode(allrowstr)\n",
    "embeddings = np.array(embeddings).astype(\"float32\")\n",
    "dim = embeddings.shape[1]   # should be 384\n",
    "index = fa.IndexFlatL2(dim)\n",
    "index.add(embeddings)\n",
    "\n"
   ]
  },
  {
   "cell_type": "markdown",
   "id": "7b2943d1",
   "metadata": {},
   "source": [
    "RETRIEVAL FUNCTION (WRAP BELOW INTO FUNCTION)"
   ]
  },
  {
   "cell_type": "code",
   "execution_count": 28,
   "id": "97610c85",
   "metadata": {},
   "outputs": [
    {
     "name": "stdout",
     "output_type": "stream",
     "text": [
      "[{'index': np.int64(1), 'summary': 'paypal refund of 42.15 USD from Spotify USA Inc. on 2025-07-22T00:00:00Z', 'row': {'id': 'paypal_1RB837392H8495678', 'provider': 'paypal', 'type': 'refund', 'amount': 42.15, 'currency': 'USD', 'counterparty': 'Spotify USA Inc.', 'category': None, 'status': 'completed', 'txn_time_utc': '2025-07-22T00:00:00Z', 'order_id': '1RB837392H8495678', 'last4': None, 'memo': '', 'email_message_id': 'paypal_refund1', 'subject': 'Your refund has been issued', 'received_ts': '2025-07-22T16:15:00Z', 'raw_text': 'We’ve issued a full refund of $42.15 USD to your PayPal balance for the following transaction:\\nMerchant: Spotify USA Inc.\\n\\nOriginal Transaction ID: 7TR837392H8491234\\nRefund ID: 1RB837392H8495678\\nRefund date: July 22, 2025', 'direction': 'in'}, 'score': 0.43438786268234253}, {'index': np.int64(0), 'summary': 'paypal purchase of 42.15 USD to Spotify USA Inc. on 2025-07-15T00:00:00Z (Visa Ending in 1234)', 'row': {'id': 'paypal_7TR837392H8491234', 'provider': 'paypal', 'type': 'purchase', 'amount': 42.15, 'currency': 'USD', 'counterparty': 'Spotify USA Inc.', 'category': None, 'status': 'completed', 'txn_time_utc': '2025-07-15T00:00:00Z', 'order_id': '7TR837392H8491234', 'last4': '1234', 'memo': '', 'email_message_id': 'm1', 'subject': 'Receipt for Your Payment to Spotify', 'received_ts': '2025-07-15T17:22:00Z', 'raw_text': 'You sent a payment of $42.15 USD to Spotify USA Inc.\\n\\nTransaction ID: 7TR837392H8491234\\nTransaction date: July 15, 2025\\nPayment method: Visa ending in 1234', 'direction': 'out'}, 'score': 1.032751441001892}]\n"
     ]
    }
   ],
   "source": [
    "def query_transactions(query, top_k=2):\n",
    "    # Embed the query\n",
    "    query_emb = model.encode([query]).astype(\"float32\")\n",
    "\n",
    "    # Search FAISS\n",
    "    D, I = index.search(query_emb, top_k)\n",
    "\n",
    "    results = []\n",
    "    for rank, idx in enumerate(I[0]):\n",
    "        results.append({\n",
    "            \"index\": idx,                        # DataFrame index\n",
    "            \"summary\": allrowstr[idx],           # summary string\n",
    "            \"row\": df.iloc[idx].to_dict(),       # full structured row\n",
    "            \"score\": float(D[0][rank])           # similarity distance\n",
    "        })\n",
    "    return results\n",
    "results = query_transactions(\"refund from spotify\")\n",
    "print(results)"
   ]
  },
  {
   "cell_type": "code",
   "execution_count": null,
   "id": "eaba8378",
   "metadata": {},
   "outputs": [
    {
     "name": "stdout",
     "output_type": "stream",
     "text": [
      "You are a financial assistant. Use the provided transactions to answer the user’s question.\n",
      "Be accurate, concise, and only rely on the context. If the answer is not found, say so.\n",
      "\n",
      "User question: refund from spotify\n",
      "\n",
      "Transactions:\n",
      "paypal refund of 42.15 USD from Spotify USA Inc. on 2025-07-22T00:00:00Z\n",
      "paypal purchase of 42.15 USD to Spotify USA Inc. on 2025-07-15T00:00:00Z (Visa Ending in 1234)\n"
     ]
    }
   ],
   "source": [
    "def generate_prompt(query, top_k=2):\n",
    "    # Step 1: Retrieve candidate transactions\n",
    "    retrieved = query_transactions(query, top_k=top_k)\n",
    "\n",
    "    # Step 2: Build context string (summaries only)\n",
    "    context = \"\\n\".join([r[\"summary\"] for r in retrieved])\n",
    "\n",
    "    # Step 3: Construct prompt\n",
    "    prompt = f\"\"\"\n",
    "User question: {query}\n",
    "\n",
    "Transactions:\n",
    "{context}\n",
    "\"\"\"\n",
    "    return prompt.strip(), retrieved\n",
    "\n",
    "print(generate_prompt(\"refund from spotify\")[0])"
   ]
  },
  {
   "cell_type": "code",
   "execution_count": null,
   "id": "c1019efe",
   "metadata": {},
   "outputs": [
    {
     "name": "stdout",
     "output_type": "stream",
     "text": [
      "The refund from Spotify is 42.15 USD, processed on 2025-07-22.\n"
     ]
    }
   ],
   "source": [
    "client = OpenAI()\n",
    "\n",
    "response = client.chat.completions.create(\n",
    "    model=\"gpt-4o-mini\",\n",
    "    messages=[\n",
    "        {\n",
    "            \"role\": \"system\",\n",
    "            \"content\": (\n",
    "                \"You are a financial assistant. Use only the provided transactions to answer the user's question. \"\n",
    "                \"If the answer is not found, say so. Be accurate, concise, and avoid making up information.\"\n",
    "            )\n",
    "        },\n",
    "        {\n",
    "            \"role\": \"user\",\n",
    "            \"content\": generate_prompt(\"refund from spotify\")[0]\n",
    "        }\n",
    "    ],\n",
    "    temperature=0\n",
    ")\n",
    "print(response.choices[0].message.content)"
   ]
  }
 ],
 "metadata": {
  "kernelspec": {
   "display_name": "inbox-llm",
   "language": "python",
   "name": "python3"
  },
  "language_info": {
   "codemirror_mode": {
    "name": "ipython",
    "version": 3
   },
   "file_extension": ".py",
   "mimetype": "text/x-python",
   "name": "python",
   "nbconvert_exporter": "python",
   "pygments_lexer": "ipython3",
   "version": "3.10.16"
  }
 },
 "nbformat": 4,
 "nbformat_minor": 5
}
